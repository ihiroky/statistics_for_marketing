{
 "cells": [
  {
   "cell_type": "markdown",
   "metadata": {},
   "source": [
    "# 3 記述統計：データの集計と可視化"
   ]
  },
  {
   "cell_type": "markdown",
   "metadata": {},
   "source": [
    "## 3.1 データのクリーニングと加工"
   ]
  },
  {
   "cell_type": "markdown",
   "metadata": {},
   "source": [
    "## 3.2 表によるデータの集計"
   ]
  },
  {
   "cell_type": "code",
   "execution_count": 13,
   "metadata": {},
   "outputs": [],
   "source": [
    "import pandas as pd\n",
    "import numpy as np\n",
    "import matplotlib.pyplot as plt\n",
    "from sklearn.linear_model import LinearRegression\n",
    "\n",
    "%matplotlib inline"
   ]
  },
  {
   "cell_type": "code",
   "execution_count": 8,
   "metadata": {},
   "outputs": [
    {
     "data": {
      "text/html": [
       "<div>\n",
       "<style scoped>\n",
       "    .dataframe tbody tr th:only-of-type {\n",
       "        vertical-align: middle;\n",
       "    }\n",
       "\n",
       "    .dataframe tbody tr th {\n",
       "        vertical-align: top;\n",
       "    }\n",
       "\n",
       "    .dataframe thead th {\n",
       "        text-align: right;\n",
       "    }\n",
       "</style>\n",
       "<table border=\"1\" class=\"dataframe\">\n",
       "  <thead>\n",
       "    <tr style=\"text-align: right;\">\n",
       "      <th></th>\n",
       "      <th>顧客ID</th>\n",
       "      <th>性別</th>\n",
       "      <th>年代</th>\n",
       "    </tr>\n",
       "  </thead>\n",
       "  <tbody>\n",
       "    <tr>\n",
       "      <th>0</th>\n",
       "      <td>1001</td>\n",
       "      <td>2</td>\n",
       "      <td>70</td>\n",
       "    </tr>\n",
       "    <tr>\n",
       "      <th>1</th>\n",
       "      <td>1002</td>\n",
       "      <td>2</td>\n",
       "      <td>40</td>\n",
       "    </tr>\n",
       "    <tr>\n",
       "      <th>2</th>\n",
       "      <td>1003</td>\n",
       "      <td>2</td>\n",
       "      <td>20</td>\n",
       "    </tr>\n",
       "    <tr>\n",
       "      <th>3</th>\n",
       "      <td>1004</td>\n",
       "      <td>2</td>\n",
       "      <td>50</td>\n",
       "    </tr>\n",
       "    <tr>\n",
       "      <th>4</th>\n",
       "      <td>1005</td>\n",
       "      <td>2</td>\n",
       "      <td>40</td>\n",
       "    </tr>\n",
       "  </tbody>\n",
       "</table>\n",
       "</div>"
      ],
      "text/plain": [
       "   顧客ID  性別  年代\n",
       "0  1001   2  70\n",
       "1  1002   2  40\n",
       "2  1003   2  20\n",
       "3  1004   2  50\n",
       "4  1005   2  40"
      ]
     },
     "execution_count": 8,
     "metadata": {},
     "output_type": "execute_result"
    }
   ],
   "source": [
    "df_id_age = pd.read_excel('978-4-274-22101-9.xlsx', 'ID付きPOSデータ（IDデータ）').iloc[:, 0:3]\n",
    "df_id_age.head()"
   ]
  },
  {
   "cell_type": "code",
   "execution_count": 30,
   "metadata": {},
   "outputs": [
    {
     "data": {
      "text/html": [
       "<div>\n",
       "<style scoped>\n",
       "    .dataframe tbody tr th:only-of-type {\n",
       "        vertical-align: middle;\n",
       "    }\n",
       "\n",
       "    .dataframe tbody tr th {\n",
       "        vertical-align: top;\n",
       "    }\n",
       "\n",
       "    .dataframe thead th {\n",
       "        text-align: right;\n",
       "    }\n",
       "</style>\n",
       "<table border=\"1\" class=\"dataframe\">\n",
       "  <thead>\n",
       "    <tr style=\"text-align: right;\">\n",
       "      <th></th>\n",
       "      <th>レシートNo</th>\n",
       "      <th>日</th>\n",
       "      <th>時間</th>\n",
       "      <th>顧客ID</th>\n",
       "      <th>税抜価格</th>\n",
       "      <th>税抜単価</th>\n",
       "      <th>個数</th>\n",
       "      <th>大カテゴリ番号</th>\n",
       "      <th>大カテゴリ名</th>\n",
       "      <th>中カテゴリ番号</th>\n",
       "      <th>中カテゴリ名</th>\n",
       "      <th>小カテゴリ番号</th>\n",
       "      <th>小カテゴリ名</th>\n",
       "      <th>性別</th>\n",
       "      <th>年代</th>\n",
       "    </tr>\n",
       "  </thead>\n",
       "  <tbody>\n",
       "    <tr>\n",
       "      <th>0</th>\n",
       "      <td>1</td>\n",
       "      <td>1</td>\n",
       "      <td>9</td>\n",
       "      <td>1518</td>\n",
       "      <td>50</td>\n",
       "      <td>10</td>\n",
       "      <td>5</td>\n",
       "      <td>11</td>\n",
       "      <td>農産</td>\n",
       "      <td>1113</td>\n",
       "      <td>野菜</td>\n",
       "      <td>111327</td>\n",
       "      <td>じゃが芋</td>\n",
       "      <td>2</td>\n",
       "      <td>60</td>\n",
       "    </tr>\n",
       "    <tr>\n",
       "      <th>1</th>\n",
       "      <td>1</td>\n",
       "      <td>1</td>\n",
       "      <td>9</td>\n",
       "      <td>1518</td>\n",
       "      <td>50</td>\n",
       "      <td>10</td>\n",
       "      <td>5</td>\n",
       "      <td>11</td>\n",
       "      <td>農産</td>\n",
       "      <td>1113</td>\n",
       "      <td>野菜</td>\n",
       "      <td>111363</td>\n",
       "      <td>玉葱</td>\n",
       "      <td>2</td>\n",
       "      <td>60</td>\n",
       "    </tr>\n",
       "    <tr>\n",
       "      <th>2</th>\n",
       "      <td>1</td>\n",
       "      <td>1</td>\n",
       "      <td>9</td>\n",
       "      <td>1518</td>\n",
       "      <td>90</td>\n",
       "      <td>90</td>\n",
       "      <td>1</td>\n",
       "      <td>11</td>\n",
       "      <td>農産</td>\n",
       "      <td>1113</td>\n",
       "      <td>野菜</td>\n",
       "      <td>111361</td>\n",
       "      <td>レタス</td>\n",
       "      <td>2</td>\n",
       "      <td>60</td>\n",
       "    </tr>\n",
       "    <tr>\n",
       "      <th>3</th>\n",
       "      <td>1</td>\n",
       "      <td>1</td>\n",
       "      <td>9</td>\n",
       "      <td>1518</td>\n",
       "      <td>185</td>\n",
       "      <td>185</td>\n",
       "      <td>1</td>\n",
       "      <td>11</td>\n",
       "      <td>農産</td>\n",
       "      <td>1113</td>\n",
       "      <td>野菜</td>\n",
       "      <td>111339</td>\n",
       "      <td>トマト</td>\n",
       "      <td>2</td>\n",
       "      <td>60</td>\n",
       "    </tr>\n",
       "    <tr>\n",
       "      <th>4</th>\n",
       "      <td>438</td>\n",
       "      <td>2</td>\n",
       "      <td>13</td>\n",
       "      <td>1518</td>\n",
       "      <td>265</td>\n",
       "      <td>265</td>\n",
       "      <td>1</td>\n",
       "      <td>13</td>\n",
       "      <td>畜産</td>\n",
       "      <td>1313</td>\n",
       "      <td>精肉加工品</td>\n",
       "      <td>131312</td>\n",
       "      <td>鶏卵</td>\n",
       "      <td>2</td>\n",
       "      <td>60</td>\n",
       "    </tr>\n",
       "  </tbody>\n",
       "</table>\n",
       "</div>"
      ],
      "text/plain": [
       "   レシートNo  日  時間  顧客ID  税抜価格  税抜単価  個数  大カテゴリ番号 大カテゴリ名  中カテゴリ番号 中カテゴリ名  \\\n",
       "0       1  1   9  1518    50    10   5       11     農産     1113     野菜   \n",
       "1       1  1   9  1518    50    10   5       11     農産     1113     野菜   \n",
       "2       1  1   9  1518    90    90   1       11     農産     1113     野菜   \n",
       "3       1  1   9  1518   185   185   1       11     農産     1113     野菜   \n",
       "4     438  2  13  1518   265   265   1       13     畜産     1313  精肉加工品   \n",
       "\n",
       "   小カテゴリ番号 小カテゴリ名  性別  年代  \n",
       "0   111327   じゃが芋   2  60  \n",
       "1   111363     玉葱   2  60  \n",
       "2   111361    レタス   2  60  \n",
       "3   111339    トマト   2  60  \n",
       "4   131312     鶏卵   2  60  "
      ]
     },
     "execution_count": 30,
     "metadata": {},
     "output_type": "execute_result"
    }
   ],
   "source": [
    "df_id_pos = pd.read_excel('978-4-274-22101-9.xlsx', 'ID付きPOSデータ（POSデータ）')\n",
    "df_id_pos = pd.merge(df_id_pos, df_id_age, on='顧客ID')\n",
    "df_id_pos.head()"
   ]
  },
  {
   "cell_type": "code",
   "execution_count": 56,
   "metadata": {},
   "outputs": [
    {
     "data": {
      "text/html": [
       "<div>\n",
       "<style scoped>\n",
       "    .dataframe tbody tr th:only-of-type {\n",
       "        vertical-align: middle;\n",
       "    }\n",
       "\n",
       "    .dataframe tbody tr th {\n",
       "        vertical-align: top;\n",
       "    }\n",
       "\n",
       "    .dataframe thead th {\n",
       "        text-align: right;\n",
       "    }\n",
       "</style>\n",
       "<table border=\"1\" class=\"dataframe\">\n",
       "  <thead>\n",
       "    <tr style=\"text-align: right;\">\n",
       "      <th>年代</th>\n",
       "      <th>10</th>\n",
       "      <th>20</th>\n",
       "      <th>30</th>\n",
       "      <th>40</th>\n",
       "      <th>50</th>\n",
       "      <th>60</th>\n",
       "      <th>70</th>\n",
       "      <th>80</th>\n",
       "      <th>90</th>\n",
       "    </tr>\n",
       "  </thead>\n",
       "  <tbody>\n",
       "    <tr>\n",
       "      <th>頻度</th>\n",
       "      <td>4.000</td>\n",
       "      <td>33.000</td>\n",
       "      <td>103.000</td>\n",
       "      <td>250.00</td>\n",
       "      <td>167.000</td>\n",
       "      <td>149.000</td>\n",
       "      <td>81.000</td>\n",
       "      <td>18.000</td>\n",
       "      <td>1.000</td>\n",
       "    </tr>\n",
       "    <tr>\n",
       "      <th>構成比率</th>\n",
       "      <td>0.004</td>\n",
       "      <td>0.033</td>\n",
       "      <td>0.103</td>\n",
       "      <td>0.25</td>\n",
       "      <td>0.167</td>\n",
       "      <td>0.149</td>\n",
       "      <td>0.081</td>\n",
       "      <td>0.018</td>\n",
       "      <td>0.001</td>\n",
       "    </tr>\n",
       "  </tbody>\n",
       "</table>\n",
       "</div>"
      ],
      "text/plain": [
       "年代       10      20       30      40       50       60      70      80     90\n",
       "頻度    4.000  33.000  103.000  250.00  167.000  149.000  81.000  18.000  1.000\n",
       "構成比率  0.004   0.033    0.103    0.25    0.167    0.149   0.081   0.018  0.001"
      ]
     },
     "execution_count": 56,
     "metadata": {},
     "output_type": "execute_result"
    }
   ],
   "source": [
    "# 単純集計（GT: grand total）表\n",
    "df_age_group = pd.DataFrame()\n",
    "df_id_age_10_90 = df_id_age[df_id_age['年代'] != 100]\n",
    "df_age_group['頻度'] = df_id_age_10_90.groupby(['年代']).size()\n",
    "df_age_group['構成比率'] = df_age_group['頻度'] / len(df_id_age)\n",
    "df_age_group.T"
   ]
  },
  {
   "cell_type": "raw",
   "metadata": {},
   "source": [
    "# クロス集計表（頻度）\n",
    "df_cross_freq = pd.DataFrame()\n",
    "freq = df_id_pos[df_id_pos['年代'] != 100].groupby(['顧客ID'])['レシートNo'].nunique()\n",
    "df_cross_freq['来店頻度'] = pd.cut(freq, [0, 5, 10, 15, 20, 25, 30], right=True)\n",
    "df_cross_freq['年代'] = df_id_age[['顧客ID', '年代']].set_index('顧客ID')\n",
    "df_cross_freq = df_cross_freq.groupby(['来店頻度', '年代']).size().unstack().fillna(0).astype(int)\n",
    "df_cross_freq['合計'] = df_cross_freq.sum(axis=1)\n",
    "df_cross_freq"
   ]
  },
  {
   "cell_type": "code",
   "execution_count": 80,
   "metadata": {
    "scrolled": true
   },
   "outputs": [
    {
     "data": {
      "text/html": [
       "<div>\n",
       "<style scoped>\n",
       "    .dataframe tbody tr th:only-of-type {\n",
       "        vertical-align: middle;\n",
       "    }\n",
       "\n",
       "    .dataframe tbody tr th {\n",
       "        vertical-align: top;\n",
       "    }\n",
       "\n",
       "    .dataframe thead th {\n",
       "        text-align: right;\n",
       "    }\n",
       "</style>\n",
       "<table border=\"1\" class=\"dataframe\">\n",
       "  <thead>\n",
       "    <tr style=\"text-align: right;\">\n",
       "      <th>年代</th>\n",
       "      <th>10</th>\n",
       "      <th>20</th>\n",
       "      <th>30</th>\n",
       "      <th>40</th>\n",
       "      <th>50</th>\n",
       "      <th>60</th>\n",
       "      <th>70</th>\n",
       "      <th>80</th>\n",
       "      <th>90</th>\n",
       "      <th>合計</th>\n",
       "    </tr>\n",
       "    <tr>\n",
       "      <th>来店頻度</th>\n",
       "      <th></th>\n",
       "      <th></th>\n",
       "      <th></th>\n",
       "      <th></th>\n",
       "      <th></th>\n",
       "      <th></th>\n",
       "      <th></th>\n",
       "      <th></th>\n",
       "      <th></th>\n",
       "      <th></th>\n",
       "    </tr>\n",
       "  </thead>\n",
       "  <tbody>\n",
       "    <tr>\n",
       "      <th>(0, 5]</th>\n",
       "      <td>0.45</td>\n",
       "      <td>4.91</td>\n",
       "      <td>12.95</td>\n",
       "      <td>32.37</td>\n",
       "      <td>20.31</td>\n",
       "      <td>17.63</td>\n",
       "      <td>9.15</td>\n",
       "      <td>2.23</td>\n",
       "      <td>0.0</td>\n",
       "      <td>100.0</td>\n",
       "    </tr>\n",
       "    <tr>\n",
       "      <th>(5, 10]</th>\n",
       "      <td>1.09</td>\n",
       "      <td>2.73</td>\n",
       "      <td>14.21</td>\n",
       "      <td>28.42</td>\n",
       "      <td>19.13</td>\n",
       "      <td>21.86</td>\n",
       "      <td>9.84</td>\n",
       "      <td>2.73</td>\n",
       "      <td>0.0</td>\n",
       "      <td>100.0</td>\n",
       "    </tr>\n",
       "    <tr>\n",
       "      <th>(10, 15]</th>\n",
       "      <td>0.00</td>\n",
       "      <td>5.00</td>\n",
       "      <td>11.25</td>\n",
       "      <td>33.75</td>\n",
       "      <td>20.00</td>\n",
       "      <td>18.75</td>\n",
       "      <td>8.75</td>\n",
       "      <td>2.50</td>\n",
       "      <td>0.0</td>\n",
       "      <td>100.0</td>\n",
       "    </tr>\n",
       "    <tr>\n",
       "      <th>(15, 20]</th>\n",
       "      <td>0.00</td>\n",
       "      <td>0.00</td>\n",
       "      <td>18.00</td>\n",
       "      <td>30.00</td>\n",
       "      <td>22.00</td>\n",
       "      <td>18.00</td>\n",
       "      <td>10.00</td>\n",
       "      <td>0.00</td>\n",
       "      <td>2.0</td>\n",
       "      <td>100.0</td>\n",
       "    </tr>\n",
       "    <tr>\n",
       "      <th>(20, 25]</th>\n",
       "      <td>0.00</td>\n",
       "      <td>3.12</td>\n",
       "      <td>3.12</td>\n",
       "      <td>28.12</td>\n",
       "      <td>31.25</td>\n",
       "      <td>12.50</td>\n",
       "      <td>21.88</td>\n",
       "      <td>0.00</td>\n",
       "      <td>0.0</td>\n",
       "      <td>100.0</td>\n",
       "    </tr>\n",
       "    <tr>\n",
       "      <th>(25, 30]</th>\n",
       "      <td>0.00</td>\n",
       "      <td>7.69</td>\n",
       "      <td>0.00</td>\n",
       "      <td>15.38</td>\n",
       "      <td>30.77</td>\n",
       "      <td>15.38</td>\n",
       "      <td>23.08</td>\n",
       "      <td>7.69</td>\n",
       "      <td>0.0</td>\n",
       "      <td>100.0</td>\n",
       "    </tr>\n",
       "  </tbody>\n",
       "</table>\n",
       "</div>"
      ],
      "text/plain": [
       "年代          10    20     30     40     50     60     70    80   90     合計\n",
       "来店頻度                                                                     \n",
       "(0, 5]    0.45  4.91  12.95  32.37  20.31  17.63   9.15  2.23  0.0  100.0\n",
       "(5, 10]   1.09  2.73  14.21  28.42  19.13  21.86   9.84  2.73  0.0  100.0\n",
       "(10, 15]  0.00  5.00  11.25  33.75  20.00  18.75   8.75  2.50  0.0  100.0\n",
       "(15, 20]  0.00  0.00  18.00  30.00  22.00  18.00  10.00  0.00  2.0  100.0\n",
       "(20, 25]  0.00  3.12   3.12  28.12  31.25  12.50  21.88  0.00  0.0  100.0\n",
       "(25, 30]  0.00  7.69   0.00  15.38  30.77  15.38  23.08  7.69  0.0  100.0"
      ]
     },
     "execution_count": 80,
     "metadata": {},
     "output_type": "execute_result"
    }
   ],
   "source": [
    "# クロス集計表（構成比率）\n",
    "for col in df_cross_freq.columns:\n",
    "    df_cross_freq[col] = (df_cross_freq[col] / df_cross_freq['合計'] * 100).round(2)\n",
    "df_cross_freq"
   ]
  },
  {
   "cell_type": "markdown",
   "metadata": {},
   "source": [
    "## 3.3 グラフによるデータの可視化"
   ]
  },
  {
   "cell_type": "code",
   "execution_count": 87,
   "metadata": {},
   "outputs": [
    {
     "data": {
      "text/plain": [
       "<matplotlib.axes._subplots.AxesSubplot at 0x7f6513aa2b00>"
      ]
     },
     "execution_count": 87,
     "metadata": {},
     "output_type": "execute_result"
    },
    {
     "data": {
      "image/png": "[encoded data removed]",
      "text/plain": [
       "<Figure size 432x288 with 1 Axes>"
      ]
     },
     "metadata": {},
     "output_type": "display_data"
    }
   ],
   "source": [
    "# 棒グラフ（大カテゴリごとの販売個数)\n",
    "df_bar = df_id_pos.groupby(['大カテゴリ名']).size()\n",
    "df_bar = df_bar.reindex(['農産', '水産', '畜産', '乾物類', '穀物類', '惣菜', '即席食品', '加工食品', '菓子', '飲料', '酒類', 'その他'])\n",
    "df_bar.plot.bar(grid=True)"
   ]
  },
  {
   "cell_type": "code",
   "execution_count": 89,
   "metadata": {},
   "outputs": [
    {
     "data": {
      "text/plain": [
       "<matplotlib.axes._subplots.AxesSubplot at 0x7f65130bdcf8>"
      ]
     },
     "execution_count": 89,
     "metadata": {},
     "output_type": "execute_result"
    },
    {
     "data": {
      "image/png": "[encoded data removed]",
      "text/plain": [
       "<Figure size 432x288 with 1 Axes>"
      ]
     },
     "metadata": {},
     "output_type": "display_data"
    }
   ],
   "source": [
    "# 折れ線グラフ（来店客数推移）\n",
    "df_line = df_id_pos.groupby(['日'])['レシートNo'].nunique()\n",
    "df_line.plot(grid=True, style='-')"
   ]
  },
  {
   "cell_type": "code",
   "execution_count": 96,
   "metadata": {},
   "outputs": [
    {
     "data": {
      "text/plain": [
       "<matplotlib.axes._subplots.AxesSubplot at 0x7f65117a7b00>"
      ]
     },
     "execution_count": 96,
     "metadata": {},
     "output_type": "execute_result"
    },
    {
     "data": {
      "image/png": "[encoded data removed]",
      "text/plain": [
       "<Figure size 432x288 with 1 Axes>"
      ]
     },
     "metadata": {},
     "output_type": "display_data"
    }
   ],
   "source": [
    "# 棒グラフ（大カテゴリごとの販売個数割合)\n",
    "df_bar = df_id_pos.groupby(['大カテゴリ名']).size() / len(df_id_pos)\n",
    "df_bar = df_bar.reindex(['農産', '水産', '畜産', '乾物類', '穀物類', '惣菜', '即席食品', '加工食品', '菓子', '飲料', '酒類', 'その他'])\n",
    "df_bar.plot.pie(autopct='{:.2f}%'.format)"
   ]
  },
  {
   "cell_type": "code",
   "execution_count": 146,
   "metadata": {},
   "outputs": [
    {
     "data": {
      "text/plain": [
       "<matplotlib.axes._subplots.AxesSubplot at 0x7f65143e4518>"
      ]
     },
     "execution_count": 146,
     "metadata": {},
     "output_type": "execute_result"
    },
    {
     "data": {
      "image/png": "[encoded data removed]",
      "text/plain": [
       "<Figure size 432x288 with 1 Axes>"
      ]
     },
     "metadata": {},
     "output_type": "display_data"
    }
   ],
   "source": [
    "# ヒストグラム（価格毎の度数）\n",
    "bins = [i for i in range(0, 18000, 1000)]\n",
    "df_hist = pd.DataFrame()\n",
    "df_hist['価格帯'] = pd.cut(df_id_pos.groupby(['レシートNo'])['税抜価格'].sum(), bins)\n",
    "df_hist = df_hist.groupby(['価格帯']).size()\n",
    "df_hist.plot.bar(grid=True)"
   ]
  },
  {
   "cell_type": "code",
   "execution_count": 152,
   "metadata": {},
   "outputs": [
    {
     "data": {
      "text/plain": [
       "<matplotlib.axes._subplots.AxesSubplot at 0x7f6512e99ac8>"
      ]
     },
     "execution_count": 152,
     "metadata": {},
     "output_type": "execute_result"
    },
    {
     "data": {
      "image/png": "[encoded data removed]",
      "text/plain": [
       "<Figure size 432x288 with 1 Axes>"
      ]
     },
     "metadata": {},
     "output_type": "display_data"
    }
   ],
   "source": [
    "# 箱ひげ図（価格毎の度数）\n",
    "df_boxplot = pd.DataFrame()\n",
    "df_boxplot['価格帯'] = df_id_pos.groupby(['レシートNo'])['税抜価格'].sum()\n",
    "df_boxplot.boxplot()"
   ]
  },
  {
   "cell_type": "code",
   "execution_count": 157,
   "metadata": {},
   "outputs": [
    {
     "data": {
      "text/plain": [
       "<matplotlib.axes._subplots.AxesSubplot at 0x7f6512aa7d30>"
      ]
     },
     "execution_count": 157,
     "metadata": {},
     "output_type": "execute_result"
    },
    {
     "data": {
      "image/png": "[encoded data removed]",
      "text/plain": [
       "<Figure size 432x288 with 1 Axes>"
      ]
     },
     "metadata": {},
     "output_type": "display_data"
    }
   ],
   "source": [
    "# 散布図（農産カテゴリ日別商品単価と売上個数）\n",
    "df_scatter = pd.DataFrame()\n",
    "df_scatter['平均単価'] = df_id_pos[df_id_pos['大カテゴリ名'] == '農産'].groupby(['日'])['税抜価格'].mean()\n",
    "df_scatter['売上個数'] = df_id_pos[df_id_pos['大カテゴリ名'] == '農産'].groupby(['日'])['税抜価格'].size()\n",
    "df_scatter.plot.scatter(x='平均単価', y='売上個数', grid=True)"
   ]
  },
  {
   "cell_type": "code",
   "execution_count": 159,
   "metadata": {},
   "outputs": [
    {
     "data": {
      "text/plain": [
       "array([[<matplotlib.axes._subplots.AxesSubplot object at 0x7f6512937710>,\n",
       "        <matplotlib.axes._subplots.AxesSubplot object at 0x7f6513a3b908>,\n",
       "        <matplotlib.axes._subplots.AxesSubplot object at 0x7f6513a52f98>],\n",
       "       [<matplotlib.axes._subplots.AxesSubplot object at 0x7f6512621668>,\n",
       "        <matplotlib.axes._subplots.AxesSubplot object at 0x7f6514b63cf8>,\n",
       "        <matplotlib.axes._subplots.AxesSubplot object at 0x7f6514b63d30>],\n",
       "       [<matplotlib.axes._subplots.AxesSubplot object at 0x7f6514908a58>,\n",
       "        <matplotlib.axes._subplots.AxesSubplot object at 0x7f65141fb128>,\n",
       "        <matplotlib.axes._subplots.AxesSubplot object at 0x7f65141f17b8>]],\n",
       "      dtype=object)"
      ]
     },
     "execution_count": 159,
     "metadata": {},
     "output_type": "execute_result"
    },
    {
     "data": {
      "image/png": "[encoded data removed]",
      "text/plain": [
       "<Figure size 432x288 with 9 Axes>"
      ]
     },
     "metadata": {},
     "output_type": "display_data"
    }
   ],
   "source": [
    "# ３変数の散布図（農産カテゴリ日別商品単価、売上個数、合計販売金額）\n",
    "from pandas.plotting import scatter_matrix\n",
    "\n",
    "df_scatter['合計販売金額'] = df_id_pos[df_id_pos['大カテゴリ名'] == '農産'].groupby(['日'])['税抜価格'].sum()\n",
    "scatter_matrix(df_scatter, diagonal='kde')"
   ]
  },
  {
   "cell_type": "code",
   "execution_count": 162,
   "metadata": {},
   "outputs": [
    {
     "data": {
      "text/plain": [
       "<matplotlib.axes._subplots.AxesSubplot at 0x7f6514cc15f8>"
      ]
     },
     "execution_count": 162,
     "metadata": {},
     "output_type": "execute_result"
    },
    {
     "data": {
      "image/png": "[encoded data removed]",
      "text/plain": [
       "<Figure size 432x288 with 1 Axes>"
      ]
     },
     "metadata": {},
     "output_type": "display_data"
    }
   ],
   "source": [
    "# 折れ線グラフ（来店客数推移）の移動平均\n",
    "df_lines = pd.DataFrame()\n",
    "df_lines['来店人数'] = df_id_pos.groupby(['日'])['レシートNo'].nunique()\n",
    "df_lines['3項移動平均'] = df_lines['来店人数'].rolling(3).mean()\n",
    "df_lines['7項移動平均'] = df_lines['来店人数'].rolling(7).mean()\n",
    "df_lines.plot(grid=True, style='-')"
   ]
  },
  {
   "cell_type": "code",
   "execution_count": 167,
   "metadata": {},
   "outputs": [
    {
     "data": {
      "text/html": [
       "<div>\n",
       "<style scoped>\n",
       "    .dataframe tbody tr th:only-of-type {\n",
       "        vertical-align: middle;\n",
       "    }\n",
       "\n",
       "    .dataframe tbody tr th {\n",
       "        vertical-align: top;\n",
       "    }\n",
       "\n",
       "    .dataframe thead th {\n",
       "        text-align: right;\n",
       "    }\n",
       "</style>\n",
       "<table border=\"1\" class=\"dataframe\">\n",
       "  <thead>\n",
       "    <tr style=\"text-align: right;\">\n",
       "      <th></th>\n",
       "      <th>来店客数（人）</th>\n",
       "      <th>合計販売個数（個）</th>\n",
       "      <th>合計販売金額（円）</th>\n",
       "    </tr>\n",
       "  </thead>\n",
       "  <tbody>\n",
       "    <tr>\n",
       "      <th>count</th>\n",
       "      <td>30.000000</td>\n",
       "      <td>30.000000</td>\n",
       "      <td>30.000000</td>\n",
       "    </tr>\n",
       "    <tr>\n",
       "      <th>mean</th>\n",
       "      <td>233.266667</td>\n",
       "      <td>2302.633333</td>\n",
       "      <td>459962.500000</td>\n",
       "    </tr>\n",
       "    <tr>\n",
       "      <th>std</th>\n",
       "      <td>20.817654</td>\n",
       "      <td>329.596669</td>\n",
       "      <td>67866.526317</td>\n",
       "    </tr>\n",
       "    <tr>\n",
       "      <th>min</th>\n",
       "      <td>186.000000</td>\n",
       "      <td>1559.000000</td>\n",
       "      <td>303205.000000</td>\n",
       "    </tr>\n",
       "    <tr>\n",
       "      <th>25%</th>\n",
       "      <td>218.000000</td>\n",
       "      <td>2032.000000</td>\n",
       "      <td>421080.000000</td>\n",
       "    </tr>\n",
       "    <tr>\n",
       "      <th>50%</th>\n",
       "      <td>234.500000</td>\n",
       "      <td>2324.000000</td>\n",
       "      <td>455677.500000</td>\n",
       "    </tr>\n",
       "    <tr>\n",
       "      <th>75%</th>\n",
       "      <td>249.250000</td>\n",
       "      <td>2559.750000</td>\n",
       "      <td>507900.000000</td>\n",
       "    </tr>\n",
       "    <tr>\n",
       "      <th>max</th>\n",
       "      <td>269.000000</td>\n",
       "      <td>2801.000000</td>\n",
       "      <td>583855.000000</td>\n",
       "    </tr>\n",
       "  </tbody>\n",
       "</table>\n",
       "</div>"
      ],
      "text/plain": [
       "          来店客数（人）    合計販売個数（個）      合計販売金額（円）\n",
       "count   30.000000    30.000000      30.000000\n",
       "mean   233.266667  2302.633333  459962.500000\n",
       "std     20.817654   329.596669   67866.526317\n",
       "min    186.000000  1559.000000  303205.000000\n",
       "25%    218.000000  2032.000000  421080.000000\n",
       "50%    234.500000  2324.000000  455677.500000\n",
       "75%    249.250000  2559.750000  507900.000000\n",
       "max    269.000000  2801.000000  583855.000000"
      ]
     },
     "execution_count": 167,
     "metadata": {},
     "output_type": "execute_result"
    }
   ],
   "source": [
    "# 基本統計量\n",
    "df_basic_stats = pd.DataFrame()\n",
    "df_basic_stats['来店客数（人）'] = df_id_pos.groupby(['日'])['顧客ID'].nunique()\n",
    "df_basic_stats['合計販売個数（個）'] = df_id_pos.groupby(['日']).size()\n",
    "df_basic_stats['合計販売金額（円）'] = df_id_pos.groupby(['日'])['税抜価格'].sum()\n",
    "df_basic_stats.describe()"
   ]
  },
  {
   "cell_type": "code",
   "execution_count": 168,
   "metadata": {},
   "outputs": [
    {
     "data": {
      "text/html": [
       "<div>\n",
       "<style scoped>\n",
       "    .dataframe tbody tr th:only-of-type {\n",
       "        vertical-align: middle;\n",
       "    }\n",
       "\n",
       "    .dataframe tbody tr th {\n",
       "        vertical-align: top;\n",
       "    }\n",
       "\n",
       "    .dataframe thead th {\n",
       "        text-align: right;\n",
       "    }\n",
       "</style>\n",
       "<table border=\"1\" class=\"dataframe\">\n",
       "  <thead>\n",
       "    <tr style=\"text-align: right;\">\n",
       "      <th></th>\n",
       "      <th>来店客数（人）</th>\n",
       "      <th>合計販売個数（個）</th>\n",
       "      <th>合計販売金額（円）</th>\n",
       "    </tr>\n",
       "  </thead>\n",
       "  <tbody>\n",
       "    <tr>\n",
       "      <th>来店客数（人）</th>\n",
       "      <td>1.000000</td>\n",
       "      <td>0.850682</td>\n",
       "      <td>0.754166</td>\n",
       "    </tr>\n",
       "    <tr>\n",
       "      <th>合計販売個数（個）</th>\n",
       "      <td>0.850682</td>\n",
       "      <td>1.000000</td>\n",
       "      <td>0.915199</td>\n",
       "    </tr>\n",
       "    <tr>\n",
       "      <th>合計販売金額（円）</th>\n",
       "      <td>0.754166</td>\n",
       "      <td>0.915199</td>\n",
       "      <td>1.000000</td>\n",
       "    </tr>\n",
       "  </tbody>\n",
       "</table>\n",
       "</div>"
      ],
      "text/plain": [
       "            来店客数（人）  合計販売個数（個）  合計販売金額（円）\n",
       "来店客数（人）    1.000000   0.850682   0.754166\n",
       "合計販売個数（個）  0.850682   1.000000   0.915199\n",
       "合計販売金額（円）  0.754166   0.915199   1.000000"
      ]
     },
     "execution_count": 168,
     "metadata": {},
     "output_type": "execute_result"
    }
   ],
   "source": [
    "# 上記項目間相関係数\n",
    "df_basic_stats.corr()"
   ]
  },
  {
   "cell_type": "code",
   "execution_count": null,
   "metadata": {},
   "outputs": [],
   "source": []
  }
 ],
 "metadata": {
  "kernelspec": {
   "display_name": "Python 3",
   "language": "python",
   "name": "python3"
  },
  "language_info": {
   "codemirror_mode": {
    "name": "ipython",
    "version": 3
   },
   "file_extension": ".py",
   "mimetype": "text/x-python",
   "name": "python",
   "nbconvert_exporter": "python",
   "pygments_lexer": "ipython3",
   "version": "3.7.1"
  }
 },
 "nbformat": 4,
 "nbformat_minor": 2
}
